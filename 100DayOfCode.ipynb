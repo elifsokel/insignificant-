{
 "cells": [
  {
   "cell_type": "markdown",
   "id": "4071cb94-c034-45ec-9ed5-f56e52942b5a",
   "metadata": {},
   "source": [
    "### DAY 1"
   ]
  },
  {
   "cell_type": "markdown",
   "id": "22db6f38-b783-4400-8e22-31de93352d6c",
   "metadata": {},
   "source": [
    "##### Web Resources\n",
    "*thoony.org*\n",
    "*replit.com*\n",
    "*stackoverflow.com*"
   ]
  },
  {
   "cell_type": "code",
   "execution_count": 2,
   "id": "402da46d-7373-436f-8309-537245981a6c",
   "metadata": {
    "tags": []
   },
   "outputs": [
    {
     "name": "stdout",
     "output_type": "stream",
     "text": [
      "Hello World!\n",
      "Hello World!\n",
      "Hello Wolrd!\n",
      "Hello World!\n",
      "HelloWorld\n",
      "Hello World\n",
      "Hello World\n",
      "Hello World\n"
     ]
    }
   ],
   "source": [
    "print(\"Hello World!\")\n",
    "print(\"Hello World!\\nHello Wolrd!\\nHello World!\")\n",
    "print(\"Hello\" + \"World\")\n",
    "print(\"Hello\" + \" World\")\n",
    "print(\"Hello \" + \"World\")\n",
    "print(\"Hello\" + \" \" + \"World\")"
   ]
  },
  {
   "cell_type": "code",
   "execution_count": 3,
   "id": "64ce7272-e1ba-4cbd-b61f-1eef663db89e",
   "metadata": {},
   "outputs": [
    {
     "name": "stdout",
     "output_type": "stream",
     "text": [
      "What is your name?  elif\n"
     ]
    },
    {
     "data": {
      "text/plain": [
       "'elif'"
      ]
     },
     "execution_count": 3,
     "metadata": {},
     "output_type": "execute_result"
    }
   ],
   "source": [
    "input(\"What is your name? \")"
   ]
  },
  {
   "cell_type": "code",
   "execution_count": 4,
   "id": "983d55a4-f284-4aeb-b832-0c862da23983",
   "metadata": {},
   "outputs": [
    {
     "name": "stdout",
     "output_type": "stream",
     "text": [
      "What is your name?  elif\n"
     ]
    },
    {
     "name": "stdout",
     "output_type": "stream",
     "text": [
      "Hello elif\n"
     ]
    }
   ],
   "source": [
    "print(\"Hello \" + input(\"What is your name? \"))"
   ]
  },
  {
   "cell_type": "code",
   "execution_count": 5,
   "id": "760ea726-13e3-4f88-bdd8-5643116d22b2",
   "metadata": {},
   "outputs": [
    {
     "name": "stdout",
     "output_type": "stream",
     "text": [
      "What is your name? elif\n"
     ]
    },
    {
     "name": "stdout",
     "output_type": "stream",
     "text": [
      "4\n"
     ]
    }
   ],
   "source": [
    "print(len(input(\"What is your name?\")))"
   ]
  },
  {
   "cell_type": "code",
   "execution_count": 6,
   "id": "2aa39faf-b4ae-402b-88a4-f440c661e029",
   "metadata": {},
   "outputs": [
    {
     "name": "stdout",
     "output_type": "stream",
     "text": [
      "What is your name? elif\n"
     ]
    },
    {
     "name": "stdout",
     "output_type": "stream",
     "text": [
      "4\n"
     ]
    }
   ],
   "source": [
    "name = input(\"What is your name?\")\n",
    "length = len(name)\n",
    "print(length)"
   ]
  },
  {
   "cell_type": "code",
   "execution_count": 8,
   "id": "b03d93a3-ca15-4bf4-a7b2-64f6013ac0e9",
   "metadata": {},
   "outputs": [
    {
     "name": "stdout",
     "output_type": "stream",
     "text": [
      "a:  3\n"
     ]
    },
    {
     "name": "stdout",
     "output_type": "stream",
     "text": [
      "5\n"
     ]
    },
    {
     "name": "stdout",
     "output_type": "stream",
     "text": [
      "b:  5\n"
     ]
    },
    {
     "name": "stdout",
     "output_type": "stream",
     "text": [
      "3\n"
     ]
    }
   ],
   "source": [
    "one = input(\"a: \")\n",
    "print(int(one) + 2)\n",
    "\n",
    "two = input(\"b: \")\n",
    "print(int(two) - 2)"
   ]
  },
  {
   "cell_type": "code",
   "execution_count": 1,
   "id": "2bac2c24-e187-489e-b305-ca71a0bb5896",
   "metadata": {},
   "outputs": [
    {
     "name": "stdout",
     "output_type": "stream",
     "text": [
      "a:  3\n",
      "b:  5\n"
     ]
    },
    {
     "name": "stdout",
     "output_type": "stream",
     "text": [
      "a: 5\n",
      "b: 3\n"
     ]
    }
   ],
   "source": [
    "a = input(\"a: \")\n",
    "b = input(\"b: \")\n",
    "\n",
    "c = a\n",
    "a = b\n",
    "b = c\n",
    "\n",
    "print(\"a: \" + a)\n",
    "print(\"b: \" + b)"
   ]
  },
  {
   "cell_type": "markdown",
   "id": "c5a30f69-b8a0-4c6f-942a-f959a07d29eb",
   "metadata": {},
   "source": [
    "### DAY 2"
   ]
  },
  {
   "cell_type": "markdown",
   "id": "2443f9da-b26a-4445-9c01-7304041a1dfa",
   "metadata": {},
   "source": [
    "<h5>Data Type<h5>\n",
    "\n",
    "<ol>\n",
    "<li>integer</li>\n",
    "<li>float</li>\n",
    "<li>string</li>\n",
    "<li>boolean</li>\n",
    "</ol>"
   ]
  },
  {
   "cell_type": "code",
   "execution_count": 1,
   "id": "2898ca8f-9271-4367-97d2-44ce302f7b5a",
   "metadata": {},
   "outputs": [
    {
     "name": "stdout",
     "output_type": "stream",
     "text": [
      "What is your name? elif\n"
     ]
    },
    {
     "name": "stdout",
     "output_type": "stream",
     "text": [
      "Your name has 4 characters.\n"
     ]
    }
   ],
   "source": [
    "num_char = len(input(\"What is your name?\"))\n",
    "new_num_char = str(num_char)\n",
    "print(\"Your name has \" + new_num_char + \" characters.\")"
   ]
  },
  {
   "cell_type": "code",
   "execution_count": 5,
   "id": "3c8fcef4-0059-4c27-a374-d3240068e997",
   "metadata": {},
   "outputs": [
    {
     "name": "stdout",
     "output_type": "stream",
     "text": [
      "Type a two digit number:  25\n"
     ]
    },
    {
     "name": "stdout",
     "output_type": "stream",
     "text": [
      "25\n"
     ]
    }
   ],
   "source": [
    "two_digit_number = input(\"Type a two digit number: \")\n",
    "first_number = two_digit_number[0]\n",
    "second_number = two_digit_number[1]\n",
    "print(first_number + second_number)\n",
    "# hata, nesneler string veri tipinde olduğu için 25 çıktısını aldım "
   ]
  },
  {
   "cell_type": "code",
   "execution_count": 3,
   "id": "4e7031dc-8e99-4a7e-b408-767ab3d3af82",
   "metadata": {},
   "outputs": [
    {
     "name": "stdout",
     "output_type": "stream",
     "text": [
      "Type a two digit number:  25\n"
     ]
    },
    {
     "name": "stdout",
     "output_type": "stream",
     "text": [
      "7\n"
     ]
    }
   ],
   "source": [
    "two_digit_number = input(\"Type a two digit number: \")\n",
    "\n",
    "first_number = int(two_digit_number[0])\n",
    "second_number = int(two_digit_number[1])\n",
    "\n",
    "print(first_number + second_number)"
   ]
  },
  {
   "cell_type": "markdown",
   "id": "8744cf81-e965-41c3-9775-07652400e3d5",
   "metadata": {},
   "source": [
    "<h4>Mathematical Operations</h4>\n",
    "\n",
    "Matematikte işlem önceliği sırası pythonda da geçerlidir. İşlemler her zaman sol taraftan başlar."
   ]
  },
  {
   "cell_type": "code",
   "execution_count": 39,
   "id": "d4c788e5-4709-4c31-be39-8dfa23ea19e4",
   "metadata": {},
   "outputs": [
    {
     "name": "stdout",
     "output_type": "stream",
     "text": [
      "enter your height in m:  160\n",
      "enter your weight in kg:  62\n"
     ]
    },
    {
     "name": "stdout",
     "output_type": "stream",
     "text": [
      "Your body mass index; 0.002421875\n"
     ]
    }
   ],
   "source": [
    "# BMI Calculator\n",
    "# bmı = weight / height **2\n",
    "\n",
    "height = input(\"enter your height in m: \")\n",
    "weight = input(\"enter your weight in kg: \")\n",
    "\n",
    "n_height = float(height)\n",
    "n_weight = int(weight)\n",
    "\n",
    "bmi = n_weight / (n_height ** 2)\n",
    "n_bmi = str(bmi)\n",
    "\n",
    "print(\"Your body mass index; \" + n_bmi)"
   ]
  },
  {
   "cell_type": "code",
   "execution_count": 46,
   "id": "8d773297-ce1e-4918-b5a2-270ca9ac4719",
   "metadata": {},
   "outputs": [
    {
     "name": "stdout",
     "output_type": "stream",
     "text": [
      "enter your height in m:  160\n",
      "enter your weight in kg:  62\n"
     ]
    },
    {
     "name": "stdout",
     "output_type": "stream",
     "text": [
      "0.002421875\n"
     ]
    }
   ],
   "source": [
    "# clean code\n",
    "\n",
    "height = input(\"enter your height in m: \")\n",
    "weight = input(\"enter your weight in kg: \")\n",
    "\n",
    "bmi = int(weight) / float(height) ** 2\n",
    "print(bmi)"
   ]
  },
  {
   "cell_type": "code",
   "execution_count": 1,
   "id": "b074fd72-ea3f-44d6-a487-cd61ce6d9837",
   "metadata": {},
   "outputs": [
    {
     "name": "stdout",
     "output_type": "stream",
     "text": [
      "2\n",
      "4\n",
      "6\n",
      "4.5\n",
      "13.162\n"
     ]
    }
   ],
   "source": [
    "# en yakın sayıya yuvarlamak için;\n",
    "\n",
    "print(round(8/4))\n",
    "print(round(9/2))\n",
    "print(round(11/2))\n",
    "print(round(9/2, 2))\n",
    "print(round(1053/80, 3)) \n",
    "# sayıyı yuvarlamak istediğin basamak sayısını girebilirsin(3), istatistiksel verileri okumayı kolaylaştırır."
   ]
  },
  {
   "cell_type": "code",
   "execution_count": 58,
   "id": "2fdf62de-5f26-4e02-8d77-3a42621f1009",
   "metadata": {},
   "outputs": [
    {
     "name": "stdout",
     "output_type": "stream",
     "text": [
      "3\n",
      "7\n"
     ]
    }
   ],
   "source": [
    "# round() kullanmadan sayıyı tam sayıya çevirmek için taban bölmeyi kullanabilirsin.\n",
    "\n",
    "print(30//8)\n",
    "print(22//3)"
   ]
  },
  {
   "cell_type": "code",
   "execution_count": 67,
   "id": "90fdc391-6bef-4240-903a-51280b087aeb",
   "metadata": {},
   "outputs": [
    {
     "name": "stdout",
     "output_type": "stream",
     "text": [
      "Your score is 0\n",
      "Your height is 1.8\n",
      "You are winning is True\n"
     ]
    }
   ],
   "source": [
    "# f dizesi\n",
    "# fString\n",
    "# birçok veri tipi içeren bir nesne içerisinde, type dönüşümü yapmadan kullanılabilir.\n",
    "\n",
    "score = 0\n",
    "height = 1.8\n",
    "isWinning = True\n",
    "\n",
    "print(f\"Your score is {score}\\nYour height is {height}\\nYou are winning is {isWinning}\")"
   ]
  },
  {
   "cell_type": "code",
   "execution_count": 4,
   "id": "fe27d647-1c16-43d0-a88d-fc021ccb1c58",
   "metadata": {},
   "outputs": [
    {
     "name": "stdout",
     "output_type": "stream",
     "text": [
      "What is your current age?  24\n"
     ]
    },
    {
     "name": "stdout",
     "output_type": "stream",
     "text": [
      "You have 24090 days, 3432 weeks, and 792 months left.\n"
     ]
    }
   ],
   "source": [
    "age = input(\"What is your current age? \")\n",
    "\n",
    "age_as_int = int(age)\n",
    "\n",
    "years_remaining = 90 - age_as_int\n",
    "days_remaining = 365 * years_remaining\n",
    "week_remaining = 52 * years_remaining\n",
    "monts_remaining = 12 * years_remaining\n",
    "\n",
    "message = f\"You have {days_remaining} days, {week_remaining} weeks, and {monts_remaining} months left.\"\n",
    "print(message)"
   ]
  }
 ],
 "metadata": {
  "kernelspec": {
   "display_name": "Python 3",
   "language": "python",
   "name": "python3"
  },
  "language_info": {
   "codemirror_mode": {
    "name": "ipython",
    "version": 3
   },
   "file_extension": ".py",
   "mimetype": "text/x-python",
   "name": "python",
   "nbconvert_exporter": "python",
   "pygments_lexer": "ipython3",
   "version": "3.10.6 (tags/v3.10.6:9c7b4bd, Aug  1 2022, 21:53:49) [MSC v.1932 64 bit (AMD64)]"
  },
  "vscode": {
   "interpreter": {
    "hash": "3d2d6ad8127f4ecccce1f5ecd538c5dceca61d65924cc3c19a01b79e2fff1262"
   }
  }
 },
 "nbformat": 4,
 "nbformat_minor": 5
}
